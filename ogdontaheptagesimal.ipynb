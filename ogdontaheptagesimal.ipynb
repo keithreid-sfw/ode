{
 "cells": [
  {
   "cell_type": "code",
   "execution_count": 28,
   "id": "recovered-bishop",
   "metadata": {},
   "outputs": [
    {
     "data": {
      "text/plain": [
       "\"ABCDEFGHIJKLMNOPQRSTUVWXYZabcdefghijklmnopqrstuvwxyz0123456789!#%&()*+-./:;<=>?[]^_{|}~\""
      ]
     },
     "execution_count": 28,
     "metadata": {},
     "output_type": "execute_result"
    }
   ],
   "source": [
    "#=\n",
    "\n",
    "ogdontaeptagesimal\n",
    "\n",
    "odecimal\n",
    "\n",
    "=#\n",
    "\n",
    "function get_ode_digits()\n",
    "    ode_digits = \"ABCDEFGHIJKLMNOPQRSTUVWXYZabcdefghijklmnopqrstuvwxyz0123456789!#%&()*+-./:;<=>?[]^_{|}~\"\n",
    "end\n",
    "\n",
    "function int_to_ode_digits(x::Int64)\n",
    "end\n",
    "\n",
    "function test_int_to_ode_digits()\n",
    "    ode_digits = \"ABCDEFGHIJKLMNOPQRSTUVWXYZabcdefghijklmnopqrstuvwxyz0123456789!#%&()*+-./:;<=>?[]^_{|}~\"\n",
    "end\n",
    "\n",
    "test_int_to_ode_digits()\n"
   ]
  },
  {
   "cell_type": "code",
   "execution_count": null,
   "id": "sharing-canyon",
   "metadata": {},
   "outputs": [],
   "source": []
  }
 ],
 "metadata": {
  "kernelspec": {
   "display_name": "Julia 1.7.0",
   "language": "julia",
   "name": "julia-1.7"
  },
  "language_info": {
   "file_extension": ".jl",
   "mimetype": "application/julia",
   "name": "julia",
   "version": "1.7.0"
  }
 },
 "nbformat": 4,
 "nbformat_minor": 5
}
